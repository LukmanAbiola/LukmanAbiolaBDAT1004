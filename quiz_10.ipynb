def frequencies(text):
    letters = 'abcdefghijklmnopqrstuvwxyz'
    text = text.lower()  # Convert the text to lowercase for case-insensitive comparison

    # Initialize a list with zeros for each character in letters
    counts = [0] * len(letters)

    # Count the occurrences of each character in the text
    for char in text:
        if char in letters:
            index = letters.index(char)
            counts[index] += 1

    return counts

# Example usage
result = frequencies('The quick red fox got bored and went home.')
print(result)  # O: [1, 1, 1, 3, 5, 1, 1, 2, 1, 0, 1, 0, 1, 2, 4, 0, 1, 2, 0, 2, 1, 0, 1, 1, 0, 0]

result = frequencies('apple')
print(result)  #  [1, 0, 0, 0, 1, 0, 0, 0, 0, 0, 0, 0, 0, 0, 0, 0, 0, 0, 0, 0, 0, 0, 0, 0, 0, 0]

