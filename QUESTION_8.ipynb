{
 "cells": [
  {
   "cell_type": "code",
   "execution_count": 7,
   "id": "3a415e8b",
   "metadata": {},
   "outputs": [
    {
     "name": "stdout",
     "output_type": "stream",
     "text": [
      "The currency rate for EUR is 0.01241401.\n"
     ]
    }
   ],
   "source": [
    "def curconv(currency):\n",
    "    rates = {\n",
    "        'AUD': 1.0345157,\n",
    "        'CHF': 1.0237414,\n",
    "        'CNY': 0.1550176,\n",
    "        'DKK': 0.1651442,\n",
    "        'EUR': 1.2296544,\n",
    "        'GBP': 1.5550989,\n",
    "        'HKD': 0.1270207,\n",
    "        'INR': 0.0177643,\n",
    "        'JPY': 0.01241401,\n",
    "        'MXN': 0.0751848,\n",
    "        'MYR': 0.3145411,\n",
    "        'NOK': 0.1677063,\n",
    "        'NZD': 0.8003591,\n",
    "        'PHP': 0.0233234,\n",
    "        'SEK': 0.148269,\n",
    "        'SGD': 0.788871,\n",
    "        'THB': 0.0313789\n",
    "    }\n",
    "\n",
    "    if currency in rates:\n",
    "        return rates[currency]\n",
    "    else:\n",
    "        return None\n",
    "\n",
    "currency_code = 'EUR'\n",
    "rate = curconv(currency_code)\n",
    "if rate is not None:\n",
    "    print(f\"The currency rate for {currency_code} is {0.01241401}.\")\n",
    "else:\n",
    "    print(f\"Currency code {currency_code} is not found.\")"
   ]
  },
  {
   "cell_type": "code",
   "execution_count": 3,
   "id": "f25fa7b0",
   "metadata": {},
   "outputs": [],
   "source": [
    "## B\n"
   ]
  },
  {
   "cell_type": "code",
   "execution_count": null,
   "id": "24626258",
   "metadata": {},
   "outputs": [],
   "source": []
  },
  {
   "cell_type": "code",
   "execution_count": 5,
   "id": "14591b6f",
   "metadata": {},
   "outputs": [
    {
     "name": "stdout",
     "output_type": "stream",
     "text": [
      "The amount 50 EUR is equivalent to 61.48272 USD.\n"
     ]
    }
   ],
   "source": [
    "def curconv(currency, amount):\n",
    "    rates = {\n",
    "        'AUD': 1.0345157,\n",
    "        'CHF': 1.0237414,\n",
    "        'CNY': 0.1550176,\n",
    "        'DKK': 0.1651442,\n",
    "        'EUR': 1.2296544,\n",
    "        'GBP': 1.5550989,\n",
    "        'HKD': 0.1270207,\n",
    "        'INR': 0.0177643,\n",
    "        'JPY': 0.01241401,\n",
    "        'MXN': 0.0751848,\n",
    "        'MYR': 0.3145411,\n",
    "        'NOK': 0.1677063,\n",
    "        'NZD': 0.8003591,\n",
    "        'PHP': 0.0233234,\n",
    "        'SEK': 0.148269,\n",
    "        'SGD': 0.788871,\n",
    "        'THB': 0.0313789\n",
    "    }\n",
    "\n",
    "    if currency in rates:\n",
    "        usd_amount = amount * rates[currency]\n",
    "        return usd_amount\n",
    "    else:\n",
    "        return None\n",
    "\n",
    "# Example usage\n",
    "currency_code = 'EUR'\n",
    "amount = 50\n",
    "converted_amount = curconv(currency_code, amount)\n",
    "if converted_amount is not None:\n",
    "    print(f\"The amount {amount} {currency_code} is equivalent to {converted_amount} USD.\")\n",
    "else:\n",
    "    print(f\"Currency code {currency_code} is not found.\")"
   ]
  },
  {
   "cell_type": "code",
   "execution_count": null,
   "id": "da238556",
   "metadata": {},
   "outputs": [],
   "source": []
  }
 ],
 "metadata": {
  "kernelspec": {
   "display_name": "Python 3 (ipykernel)",
   "language": "python",
   "name": "python3"
  },
  "language_info": {
   "codemirror_mode": {
    "name": "ipython",
    "version": 3
   },
   "file_extension": ".py",
   "mimetype": "text/x-python",
   "name": "python",
   "nbconvert_exporter": "python",
   "pygments_lexer": "ipython3",
   "version": "3.10.9"
  }
 },
 "nbformat": 4,
 "nbformat_minor": 5
}
