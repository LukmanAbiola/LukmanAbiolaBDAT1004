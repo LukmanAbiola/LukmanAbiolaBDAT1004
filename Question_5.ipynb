{
 "cells": [
  {
   "cell_type": "code",
   "execution_count": 2,
   "id": "f735ba1d",
   "metadata": {},
   "outputs": [],
   "source": [
    "## Write a function inside(x,y,x1,y1,x2,y2) that returns True or False\n",
    "## depending on whether the point (x,y) lies in the rectangle with lower left\n",
    "## corner (x1,y1) and upper right corner (x2,y2).\n",
    "## >>> inside(1,1,0,0,2,3)\n",
    "## True\n",
    "## >>> inside(-1,-1,0,0,2,3)\n",
    "## False"
   ]
  },
  {
   "cell_type": "code",
   "execution_count": 11,
   "id": "fdd15f25",
   "metadata": {},
   "outputs": [],
   "source": [
    "def inside(x, y, x1, y1, x2, y2):\n",
    "    \"\"\"\n",
    "    Check if a point is inside a rectangle.\n",
    "\n",
    "    Parameters:\n",
    "        x (float): X-coordinate of the point.\n",
    "        y (float): Y-coordinate of the point.\n",
    "        x1 (float): X-coordinate of the lower left corner of the rectangle.\n",
    "        y1 (float): Y-coordinate of the lower left corner of the rectangle.\n",
    "        x2 (float): X-coordinate of the upper right corner of the rectangle.\n",
    "        y2 (float): Y-coordinate of the upper right corner of the rectangle.\n",
    "        \n",
    "    Returns:\n",
    "        bool: True if the point is inside the rectangle, False otherwise.\n",
    "    \"\"\"\n",
    "    if x1 <= x <= x2 and y1 <= y <= y2:\n",
    "        return True\n",
    "    else:\n",
    "        return False"
   ]
  },
  {
   "cell_type": "code",
   "execution_count": null,
   "id": "a2a2377f",
   "metadata": {},
   "outputs": [],
   "source": []
  },
  {
   "cell_type": "code",
   "execution_count": null,
   "id": "8cabcbf4",
   "metadata": {},
   "outputs": [],
   "source": []
  }
 ],
 "metadata": {
  "kernelspec": {
   "display_name": "Python 3 (ipykernel)",
   "language": "python",
   "name": "python3"
  },
  "language_info": {
   "codemirror_mode": {
    "name": "ipython",
    "version": 3
   },
   "file_extension": ".py",
   "mimetype": "text/x-python",
   "name": "python",
   "nbconvert_exporter": "python",
   "pygments_lexer": "ipython3",
   "version": "3.10.9"
  }
 },
 "nbformat": 4,
 "nbformat_minor": 5
}
