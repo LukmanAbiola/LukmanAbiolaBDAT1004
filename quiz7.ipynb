def bldcount(name):
    blood_types = ["A", "B", "AB", "O", "OO"]
    blood_count = [0, 0, 0, 0, 0]
    with open(name, "r") as f:
        data = f.read()
        patients = data.split()
        for patient in patients:
            for i in range(len(blood_types)):
                if patient == blood_types[i]:
                    blood_count[i] += 1
    for i in range(len(blood_types)):
        if blood_count[i] == 1:
            print(f"There is one patient of blood type {blood_types[i]}.")
        elif blood_count[i] > 1:
            print(f"There are {blood_count[i]} patients of blood type {blood_types[i]}.")
        else:
            print(f"There are no patients of blood type {blood_types[i]}.")
