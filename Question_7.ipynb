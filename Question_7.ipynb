{
 "cells": [
  {
   "cell_type": "code",
   "execution_count": 1,
   "id": "dcd44d60",
   "metadata": {},
   "outputs": [],
   "source": [
    "## File bloodtype1.txt records blood-types of patients (A, B, AB, O or OO) at a clinic.\n",
    "## Write a function bldcount() that reads the file with name name and reports (i.e.,\n",
    "## prints) how many patients there are in each bloodtype.\n",
    "## >>> bldcount('bloodtype.txt')\n",
    "## There are 10 patients of blood type A.\n",
    "## There is one patient of blood type B.\n",
    "## There are 10 patients of blood type AB.\n",
    "## There are 12 patients of blood type O.\n",
    "## There are no patients of blood type OO."
   ]
  },
  {
   "cell_type": "code",
   "execution_count": 4,
   "id": "38023cd8",
   "metadata": {},
   "outputs": [],
   "source": [
    "def bldcount(name):\n",
    "    blood_types = [\"A\", \"B\", \"AB\", \"O\", \"OO\"]\n",
    "    blood_count = [0, 0, 0, 0, 0]\n",
    "    with open(name, \"r\") as f:\n",
    "        data = f.read()\n",
    "        patients = data.split()\n",
    "        for patient in patients:\n",
    "            for i in range(len(blood_types)):\n",
    "                if patient == blood_types[i]:\n",
    "                    blood_count[i] += 1\n",
    "    for i in range(len(blood_types)):\n",
    "        if blood_count[i] == 1:  print(f\"There is one patient of blood type {blood_types[i]}.\")\n",
    "            elif blood_count[i] > 1:\n",
    "            print(f\"There are {blood_count[i]} patients of blood type {blood_types[i]}.\")\n",
    "        else:\n",
    "            print(f\"There are no patients of blood type {blood_types[i]}.\")\n",
    "        \n",
    "          "
   ]
  },
  {
   "cell_type": "code",
   "execution_count": null,
   "id": "85da91b9",
   "metadata": {},
   "outputs": [],
   "source": []
  }
 ],
 "metadata": {
  "kernelspec": {
   "display_name": "Python 3 (ipykernel)",
   "language": "python",
   "name": "python3"
  },
  "language_info": {
   "codemirror_mode": {
    "name": "ipython",
    "version": 3
   },
   "file_extension": ".py",
   "mimetype": "text/x-python",
   "name": "python",
   "nbconvert_exporter": "python",
   "pygments_lexer": "ipython3",
   "version": "3.10.9"
  }
 },
 "nbformat": 4,
 "nbformat_minor": 5
}
